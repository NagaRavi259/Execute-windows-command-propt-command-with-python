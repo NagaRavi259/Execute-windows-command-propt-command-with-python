{
 "cells": [
  {
   "cell_type": "markdown",
   "id": "986eba9c-36c9-4770-a0b9-75b1de4f3fcb",
   "metadata": {},
   "source": [
    "## Executing Command prompts with Python"
   ]
  },
  {
   "cell_type": "code",
   "execution_count": null,
   "id": "becb35fb",
   "metadata": {},
   "outputs": [],
   "source": [
    "import os\n",
    "import win32serviceutil as win32"
   ]
  },
  {
   "cell_type": "code",
   "execution_count": null,
   "id": "b19dff4e",
   "metadata": {},
   "outputs": [],
   "source": [
    "service = \"ping_test1\""
   ]
  },
  {
   "cell_type": "code",
   "execution_count": null,
   "id": "41f04af9",
   "metadata": {
    "scrolled": true
   },
   "outputs": [],
   "source": [
    "win32.StartService(service)"
   ]
  },
  {
   "cell_type": "code",
   "execution_count": 1,
   "id": "2815e1f1",
   "metadata": {},
   "outputs": [
    {
     "data": {
      "text/plain": [
       "0"
      ]
     },
     "execution_count": 1,
     "metadata": {},
     "output_type": "execute_result"
    }
   ],
   "source": [
    "import os\n",
    "os.system('cmd /k \"schtasks /run /tn test_1\"')"
   ]
  },
  {
   "cell_type": "code",
   "execution_count": 3,
   "id": "feb46bff",
   "metadata": {},
   "outputs": [
    {
     "data": {
      "text/plain": [
       "0"
      ]
     },
     "execution_count": 3,
     "metadata": {},
     "output_type": "execute_result"
    }
   ],
   "source": [
    "import os\n",
    "os.system('cmd /k \"schtasks /run /tn auto_connect_test\"')"
   ]
  },
  {
   "cell_type": "code",
   "execution_count": null,
   "id": "8a0ede30",
   "metadata": {},
   "outputs": [],
   "source": []
  }
 ],
 "metadata": {
  "kernelspec": {
   "display_name": "Python 3 (ipykernel)",
   "language": "python",
   "name": "python3"
  },
  "language_info": {
   "codemirror_mode": {
    "name": "ipython",
    "version": 3
   },
   "file_extension": ".py",
   "mimetype": "text/x-python",
   "name": "python",
   "nbconvert_exporter": "python",
   "pygments_lexer": "ipython3",
   "version": "3.9.7"
  }
 },
 "nbformat": 4,
 "nbformat_minor": 5
}
